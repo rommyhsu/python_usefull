{
 "nbformat": 4,
 "nbformat_minor": 2,
 "metadata": {
  "language_info": {
   "name": "python",
   "codemirror_mode": {
    "name": "ipython",
    "version": 3
   },
   "version": "3.7.5"
  },
  "orig_nbformat": 2,
  "file_extension": ".py",
  "mimetype": "text/x-python",
  "name": "python",
  "npconvert_exporter": "python",
  "pygments_lexer": "ipython3",
  "version": 3
 },
 "cells": [
  {
   "cell_type": "code",
   "execution_count": 2,
   "metadata": {},
   "outputs": [],
   "source": [
    "import numpy as np\n"
   ]
  },
  {
   "cell_type": "code",
   "execution_count": 8,
   "metadata": {},
   "outputs": [
    {
     "name": "stdout",
     "output_type": "stream",
     "text": "[[0 1 2]\n [3 4 5]\n [6 7 8]]\n"
    }
   ],
   "source": [
    "matrix_a = np.arange(9).reshape((3,3))\n",
    "print(matrix_a)"
   ]
  },
  {
   "cell_type": "code",
   "execution_count": 14,
   "metadata": {},
   "outputs": [
    {
     "name": "stdout",
     "output_type": "stream",
     "text": "8\n[6 7 8]\n[2 5 8]\n"
    }
   ],
   "source": [
    "print(np.max(matrix_a)) #Max overall\n",
    "print(np.max(matrix_a,axis=0)) #max in raw\n",
    "print(np.max(matrix_a,axis=1)) #max in column\n"
   ]
  },
  {
   "cell_type": "code",
   "execution_count": 15,
   "metadata": {},
   "outputs": [
    {
     "name": "stdout",
     "output_type": "stream",
     "text": "(array([2], dtype=int64), array([2], dtype=int64))\n(array([2, 2, 2], dtype=int64), array([0, 1, 2], dtype=int64))\n(array([2], dtype=int64), array([2], dtype=int64))\n"
    }
   ],
   "source": [
    "#find location\n",
    "print(np.where(matrix_a == np.max(matrix_a))) #Max overall\n",
    "print(np.where(matrix_a == np.max(matrix_a,axis=0))) # max in raw\n",
    "print(np.where(matrix_a == np.max(matrix_a,axis=1))) #max in column\n",
    "\n"
   ]
  },
  {
   "cell_type": "code",
   "execution_count": null,
   "metadata": {},
   "outputs": [],
   "source": []
  }
 ]
}