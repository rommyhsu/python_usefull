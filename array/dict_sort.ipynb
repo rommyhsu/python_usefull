{
 "nbformat": 4,
 "nbformat_minor": 2,
 "metadata": {
  "language_info": {
   "name": "python",
   "codemirror_mode": {
    "name": "ipython",
    "version": 3
   },
   "version": "3.6.8"
  },
  "orig_nbformat": 2,
  "file_extension": ".py",
  "mimetype": "text/x-python",
  "name": "python",
  "npconvert_exporter": "python",
  "pygments_lexer": "ipython3",
  "version": 3
 },
 "cells": [
  {
   "cell_type": "code",
   "execution_count": 11,
   "metadata": {},
   "outputs": [
    {
     "name": "stdout",
     "output_type": "stream",
     "text": "<class 'dict'>\n{'當時': 11, '同': 7, '0930396578': 3, '蔣宛儒': 1, '用戶': 415, '陳森芳': 2, '沒用': 1, '印': 1, '開立': 9, '0933825348': 1}\ndict_items([('當時', 11), ('同', 7), ('0930396578', 3), ('蔣宛儒', 1), ('用戶', 415), ('陳森芳', 2), ('沒用', 1), ('印', 1), ('開立', 9), ('0933825348', 1)])\n當時\n同\n0930396578\n蔣宛儒\n用戶\n陳森芳\n沒用\n印\n開立\n0933825348\n"
    }
   ],
   "source": [
    "test_dict ={\n",
    "    \"當時\":11,\n",
    "    \"同\":7,\n",
    "    \"0930396578\":3,\n",
    "    \"蔣宛儒\":1,\n",
    "    \"用戶\":415,\n",
    "    \"陳森芳\":2,\n",
    "    \"沒用\":1,\n",
    "    \"印\":1,\n",
    "    \"開立\":9,\n",
    "    \"0933825348\":1}\n",
    "print(type(test_dict))\n",
    "print(test_dict)\n",
    "print(test_dict.items())\n",
    "for item in test_dict:\n",
    "    print(item)"
   ]
  },
  {
   "cell_type": "code",
   "execution_count": 27,
   "metadata": {},
   "outputs": [
    {
     "name": "stdout",
     "output_type": "stream",
     "text": "0930396578, 3\n0933825348, 1\n印, 1\n同, 7\n沒用, 1\n用戶, 415\n當時, 11\n蔣宛儒, 1\n開立, 9\n陳森芳, 2\n"
    }
   ],
   "source": [
    "def sortedDictValues1(adict): \n",
    "    items = adict.items() \n",
    "    items = sorted(items, reverse= False) \n",
    "    return [key  for key, value in items]\n",
    "\n",
    "\n",
    "key_sorted = sortedDictValues1(test_dict)\n",
    "for key in key_sorted:\n",
    "    _str =str(key) + \", \" + str(test_dict[key])\n",
    "    print(_str)"
   ]
  },
  {
   "cell_type": "code",
   "execution_count": 26,
   "metadata": {},
   "outputs": [
    {
     "name": "stdout",
     "output_type": "stream",
     "text": "0930396578, 3\n0933825348, 1\n印, 1\n同, 7\n沒用, 1\n用戶, 415\n當時, 11\n蔣宛儒, 1\n開立, 9\n陳森芳, 2\n"
    }
   ],
   "source": [
    "#sort_by key\n",
    "def sortedDictValues2(adict): \n",
    "    keys = adict.keys() \n",
    "    keys = sorted(keys, reverse= False)\n",
    "    return [key  for key in keys] \n",
    "\n",
    "key_sorted = sortedDictValues2(test_dict)\n",
    "for key in key_sorted:\n",
    "    _str =str(key) + \", \" + str(test_dict[key])\n",
    "    print(_str)"
   ]
  },
  {
   "cell_type": "code",
   "execution_count": 25,
   "metadata": {},
   "outputs": [
    {
     "name": "stdout",
     "output_type": "stream",
     "text": "<map object at 0x000001EACC106B38>\n"
    }
   ],
   "source": [
    "#???\n",
    "def sortedDictValues3(adict): \n",
    "    keys = adict.keys() \n",
    "    keys = sorted(keys, reverse= False) \n",
    "    return map(adict.get, keys) \n",
    "\n",
    "cc = sortedDictValues3(test_dict)    \n",
    "print(cc)"
   ]
  },
  {
   "cell_type": "code",
   "execution_count": 8,
   "metadata": {},
   "outputs": [
    {
     "name": "stdout",
     "output_type": "stream",
     "text": "<class 'list'>\n"
    },
    {
     "data": {
      "text/plain": "[['0930396578', 3],\n ['0933825348', 1],\n ['印', 1],\n ['同', 7],\n ['沒用', 1],\n ['用戶', 415],\n ['當時', 11],\n ['蔣宛儒', 1],\n ['開立', 9],\n ['陳森芳', 2]]"
     },
     "execution_count": 8,
     "metadata": {},
     "output_type": "execute_result"
    }
   ],
   "source": [
    "temp_list = [[k,test_dict[k]] for k in sorted(test_dict.keys(), reverse= False)]\n",
    "print(type(temp_list))\n",
    "temp_list"
   ]
  },
  {
   "cell_type": "code",
   "execution_count": 9,
   "metadata": {},
   "outputs": [
    {
     "name": "stdout",
     "output_type": "stream",
     "text": "('0930396578', 3)\n('0933825348', 1)\n('印', 1)\n('同', 7)\n('沒用', 1)\n('用戶', 415)\n('當時', 11)\n('蔣宛儒', 1)\n('開立', 9)\n('陳森芳', 2)\n"
    }
   ],
   "source": [
    "#sort by key\n",
    "dict1=test_dict\n",
    "dict1 = sorted(dict1.items(), key=lambda d: d[0], reverse= False)\n",
    "for item in dict1:\n",
    "    print(item)"
   ]
  },
  {
   "cell_type": "code",
   "execution_count": 34,
   "metadata": {},
   "outputs": [
    {
     "name": "stdout",
     "output_type": "stream",
     "text": "['0933825348', '印', '沒用', '蔣宛儒', '陳森芳', '0930396578', '同', '開立', '當時', '用戶']\n"
    }
   ],
   "source": [
    "#by value\n",
    "def sort_by_value(d): \n",
    "    items=d.items() \n",
    "    backitems=[[v[1],v[0]] for v in items] \n",
    "    backitems.sort(reverse =False) \n",
    "    return [ backitems[i][1] for i in range(0,len(backitems))] \n",
    "\n",
    "sorted_key = sort_by_value(test_dict)\n",
    "print(sorted_key)"
   ]
  },
  {
   "cell_type": "code",
   "execution_count": 35,
   "metadata": {},
   "outputs": [
    {
     "name": "stdout",
     "output_type": "stream",
     "text": "[1, 1, 1, 1, 2, 3, 7, 9, 11, 415]\n"
    }
   ],
   "source": [
    "value_list = [v for v in sorted(test_dict.values(), reverse= False)]\n",
    "print(value_list)"
   ]
  },
  {
   "cell_type": "code",
   "execution_count": 36,
   "metadata": {},
   "outputs": [
    {
     "name": "stdout",
     "output_type": "stream",
     "text": "('蔣宛儒', 1)\n('沒用', 1)\n('印', 1)\n('0933825348', 1)\n('陳森芳', 2)\n('0930396578', 3)\n('同', 7)\n('開立', 9)\n('當時', 11)\n('用戶', 415)\n"
    }
   ],
   "source": [
    "#sort by value\n",
    "dict1=test_dict\n",
    "dict1 = sorted(dict1.items(), key=lambda d: int(d[1]), reverse=False)\n",
    "for item in dict1:\n",
    "    print(item)"
   ]
  },
  {
   "cell_type": "code",
   "execution_count": null,
   "metadata": {},
   "outputs": [],
   "source": []
  }
 ]
}