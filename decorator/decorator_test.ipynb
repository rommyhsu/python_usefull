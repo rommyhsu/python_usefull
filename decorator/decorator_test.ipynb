{
 "nbformat": 4,
 "nbformat_minor": 2,
 "metadata": {
  "language_info": {
   "name": "python",
   "codemirror_mode": {
    "name": "ipython",
    "version": 3
   },
   "version": "3.6.8-final"
  },
  "orig_nbformat": 2,
  "file_extension": ".py",
  "mimetype": "text/x-python",
  "name": "python",
  "npconvert_exporter": "python",
  "pygments_lexer": "ipython3",
  "version": 3,
  "kernelspec": {
   "name": "python36864bitpython368conda1e8b4654a6aa4f5fa97b3823a5d973ee",
   "display_name": "Python 3.6.8 64-bit ('python3.6.8': conda)"
  }
 },
 "cells": [
  {
   "cell_type": "code",
   "execution_count": 1,
   "metadata": {},
   "outputs": [
    {
     "name": "stdout",
     "output_type": "stream",
     "text": "f was called\n12\n"
    }
   ],
   "source": [
    "def decorator_example1():\n",
    "    '''\n",
    "        like\\n\n",
    "        def f(x):\\n\n",
    "        \\t\"\"\"does some math\"\"\"\\n\n",
    "        \\treturn x + x * x\\n\n",
    "\n",
    "        f = logged(f)\\n\n",
    "\n",
    "        print f(3)\n",
    "    '''\n",
    "    def logged(func):\n",
    "        def with_logging(*args, **kwargs):\n",
    "            print (func.__name__ + \" was called\")\n",
    "            return func(*args, **kwargs)\n",
    "        return with_logging\n",
    "\n",
    "    @logged\n",
    "    def f(x):\n",
    "        \"\"\"does some math\"\"\"\n",
    "        return x + x * x\n",
    "\n",
    "    print (f(3))\n",
    "decorator_example1()"
   ]
  },
  {
   "cell_type": "code",
   "execution_count": 2,
   "metadata": {},
   "outputs": [
    {
     "name": "stdout",
     "output_type": "stream",
     "text": "f was called\n12\n"
    }
   ],
   "source": [
    "def decorator_example1_2():\n",
    "    \n",
    "    def logged2(func):\n",
    "        print (func.__name__ + \" was called\")\n",
    "        return func\n",
    "\n",
    "    @logged2\n",
    "    def f(x):\n",
    "        \"\"\"does some math\"\"\"\n",
    "        return x + x * x\n",
    "\n",
    "    print(f(3))\n",
    "decorator_example1_2()"
   ]
  },
  {
   "cell_type": "code",
   "execution_count": 3,
   "metadata": {},
   "outputs": [
    {
     "name": "stdout",
     "output_type": "stream",
     "text": "<i><b>hello world</b></i>\n"
    }
   ],
   "source": [
    "def decorator_example2():\n",
    "    '''\n",
    "    decorator fold call function\n",
    "    '''\n",
    "    \n",
    "    def makebold(fn):\n",
    "        def wrapped():\n",
    "            return \"<b>\" + fn() + \"</b>\"\n",
    "        return wrapped\n",
    "\n",
    "    def makeitalic(fn):\n",
    "        def wrapped():\n",
    "            return \"<i>\" + fn() + \"</i>\"\n",
    "        return wrapped\n",
    "\n",
    "    @makeitalic\n",
    "    @makebold\n",
    "    def hello():\n",
    "        return \"hello world\"\n",
    "\n",
    "    print (hello())\n",
    "decorator_example2()"
   ]
  },
  {
   "cell_type": "code",
   "execution_count": 4,
   "metadata": {},
   "outputs": [
    {
     "name": "stdout",
     "output_type": "stream",
     "text": "decorator using\nentry init enter\nentry init exit\ntest start\nEntering hello\ninside hello\nExited hello\nhello world friends\n"
    }
   ],
   "source": [
    "def entryExit_example():\n",
    "    '''\n",
    "    decorator fold call class object\n",
    "    '''\n",
    "    class entryExit(object):\n",
    "\n",
    "        def __init__(self, f):\n",
    "            print ('entry init enter')\n",
    "            self.f = f\n",
    "            print ('entry init exit')\n",
    "\n",
    "        def __call__(self, *args):\n",
    "            print (\"Entering\", self.f.__name__)\n",
    "            r = self.f(*args)\n",
    "            print (\"Exited\", self.f.__name__)\n",
    "            return r\n",
    "\n",
    "    print ('decorator using')\n",
    "\n",
    "    @entryExit\n",
    "    def hello(a):\n",
    "        print ('inside hello')\n",
    "        return (\"hello world \" + a)\n",
    "\n",
    "    print ('test start')\n",
    "    print( hello('friends'))\n",
    "entryExit_example()"
   ]
  }
 ]
}