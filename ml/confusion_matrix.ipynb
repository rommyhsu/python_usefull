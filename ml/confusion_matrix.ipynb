{
 "nbformat": 4,
 "nbformat_minor": 2,
 "metadata": {
  "language_info": {
   "name": "python",
   "codemirror_mode": {
    "name": "ipython",
    "version": 3
   },
   "version": "3.6.8"
  },
  "orig_nbformat": 2,
  "file_extension": ".py",
  "mimetype": "text/x-python",
  "name": "python",
  "npconvert_exporter": "python",
  "pygments_lexer": "ipython3",
  "version": 3
 },
 "cells": [
  {
   "cell_type": "code",
   "execution_count": 1,
   "metadata": {},
   "outputs": [],
   "source": [
    "\n",
    "# https://stackoverflow.com/questions/2148543/how-to-write-a-confusion-matrix-in-%20python%20\n",
    "\n",
    "# Not Required, But Nice For Legibility\n",
    "from collections import OrderedDict\n",
    "\n",
    "# A Simple Confusion Matrix Implementation\n",
    "def confusionmatrix(actual, predicted, normalize = False):\n",
    "    \"\"\"\n",
    "    Generate a confusion matrix for multiple classification\n",
    "    @params:\n",
    "        actual      - a list of integers or strings for known classes\n",
    "        predicted   - a list of integers or strings for predicted classes\n",
    "    @return:\n",
    "        matrix      - a 2-dimensional list of pairwise counts\n",
    "        statistics  - a dictionary of statistics for each class\n",
    "    \"\"\"\n",
    "    unique = sorted(set(actual))\n",
    "    matrix = [[0 for _ in unique] for _ in unique]\n",
    "    imap   = {key: i for i, key in enumerate(unique)}\n",
    "    # Generate Confusion Matrix\n",
    "    for p, a in zip(predicted, actual):\n",
    "        matrix[imap[p]][imap[a]] += 1\n",
    "    # Get Confusion Matrix Sum\n",
    "    sigma = sum([sum(matrix[imap[i]]) for i in unique])\n",
    "    # Scaffold Statistics Data Structure\n",
    "    statistics = OrderedDict(((i, {\"counts\" : OrderedDict(), \"stats\" : OrderedDict()}) for i in unique))\n",
    "    # Iterate Through Classes & Compute Statistics\n",
    "    for i in unique:\n",
    "        loc = matrix[imap[i]][imap[i]]\n",
    "        row = sum(matrix[imap[i]][:])\n",
    "        col = sum([row[imap[i]] for row in matrix])\n",
    "        # Get TP/TN/FP/FN\n",
    "        tp  = loc\n",
    "        fp  = row - loc\n",
    "        fn  = col - loc\n",
    "        tn  = sigma - row - col + loc\n",
    "        # Populate Counts Dictionary\n",
    "        statistics[i][\"counts\"][\"tp\"]   = tp\n",
    "        statistics[i][\"counts\"][\"fp\"]   = fp\n",
    "        statistics[i][\"counts\"][\"tn\"]   = tn\n",
    "        statistics[i][\"counts\"][\"fn\"]   = fn\n",
    "        statistics[i][\"counts\"][\"pos\"]  = tp + fn\n",
    "        statistics[i][\"counts\"][\"neg\"]  = tn + fp\n",
    "        statistics[i][\"counts\"][\"n\"]    = tp + tn + fp + fn\n",
    "        # Populate Statistics Dictionary\n",
    "        statistics[i][\"stats\"][\"sensitivity\"]   = tp / (tp + fn) if tp > 0 else 0.0\n",
    "        statistics[i][\"stats\"][\"specificity\"]   = tn / (tn + fp) if tn > 0 else 0.0\n",
    "        statistics[i][\"stats\"][\"precision\"]     = tp / (tp + fp) if tp > 0 else 0.0\n",
    "        statistics[i][\"stats\"][\"recall\"]        = tp / (tp + fn) if tp > 0 else 0.0\n",
    "        statistics[i][\"stats\"][\"tpr\"]           = tp / (tp + fn) if tp > 0 else 0.0\n",
    "        statistics[i][\"stats\"][\"tnr\"]           = tn / (tn + fp) if tn > 0 else 0.0\n",
    "        statistics[i][\"stats\"][\"fpr\"]           = fp / (fp + tn) if fp > 0 else 0.0\n",
    "        statistics[i][\"stats\"][\"fnr\"]           = fn / (fn + tp) if fn > 0 else 0.0\n",
    "        statistics[i][\"stats\"][\"accuracy\"]      = (tp + tn) / (tp + tn + fp + fn) if (tp + tn) > 0 else 0.0\n",
    "        statistics[i][\"stats\"][\"f1score\"]       = (2 * tp) / ((2 * tp) + (fp + fn)) if tp > 0 else 0.0\n",
    "        statistics[i][\"stats\"][\"fdr\"]           = fp / (fp + tp) if fp > 0 else 0.0\n",
    "        statistics[i][\"stats\"][\"for\"]           = fn / (fn + tn) if fn > 0 else 0.0\n",
    "        statistics[i][\"stats\"][\"ppv\"]           = tp / (tp + fp) if tp > 0 else 0.0\n",
    "        statistics[i][\"stats\"][\"npv\"]           = tn / (tn + fn) if tn > 0 else 0.0\n",
    "    # Matrix Normalization\n",
    "    if normalize:\n",
    "        matrix = [row for row in map(lambda i: list(map(lambda j: j / sigma, i)), matrix)]\n",
    "    return matrix, statistics"
   ]
  },
  {
   "cell_type": "code",
   "execution_count": 5,
   "metadata": {},
   "outputs": [
    {
     "data": {
      "text/plain": "([[0.2, 0.1, 0.0], [0.0, 0.2, 0.1], [0.1, 0.2, 0.1]],\n OrderedDict([('A',\n               {'counts': OrderedDict([('tp', 2),\n                             ('fp', 1),\n                             ('tn', 6),\n                             ('fn', 1),\n                             ('pos', 3),\n                             ('neg', 7),\n                             ('n', 10)]),\n                'stats': OrderedDict([('sensitivity', 0.6666666666666666),\n                             ('specificity', 0.8571428571428571),\n                             ('precision', 0.6666666666666666),\n                             ('recall', 0.6666666666666666),\n                             ('tpr', 0.6666666666666666),\n                             ('tnr', 0.8571428571428571),\n                             ('fpr', 0.14285714285714285),\n                             ('fnr', 0.3333333333333333),\n                             ('accuracy', 0.8),\n                             ('f1score', 0.6666666666666666),\n                             ('fdr', 0.3333333333333333),\n                             ('for', 0.14285714285714285),\n                             ('ppv', 0.6666666666666666),\n                             ('npv', 0.8571428571428571)])}),\n              ('B',\n               {'counts': OrderedDict([('tp', 2),\n                             ('fp', 1),\n                             ('tn', 4),\n                             ('fn', 3),\n                             ('pos', 5),\n                             ('neg', 5),\n                             ('n', 10)]),\n                'stats': OrderedDict([('sensitivity', 0.4),\n                             ('specificity', 0.8),\n                             ('precision', 0.6666666666666666),\n                             ('recall', 0.4),\n                             ('tpr', 0.4),\n                             ('tnr', 0.8),\n                             ('fpr', 0.2),\n                             ('fnr', 0.6),\n                             ('accuracy', 0.6),\n                             ('f1score', 0.5),\n                             ('fdr', 0.3333333333333333),\n                             ('for', 0.42857142857142855),\n                             ('ppv', 0.6666666666666666),\n                             ('npv', 0.5714285714285714)])}),\n              ('C',\n               {'counts': OrderedDict([('tp', 1),\n                             ('fp', 3),\n                             ('tn', 5),\n                             ('fn', 1),\n                             ('pos', 2),\n                             ('neg', 8),\n                             ('n', 10)]),\n                'stats': OrderedDict([('sensitivity', 0.5),\n                             ('specificity', 0.625),\n                             ('precision', 0.25),\n                             ('recall', 0.5),\n                             ('tpr', 0.5),\n                             ('tnr', 0.625),\n                             ('fpr', 0.375),\n                             ('fnr', 0.5),\n                             ('accuracy', 0.6),\n                             ('f1score', 0.3333333333333333),\n                             ('fdr', 0.75),\n                             ('for', 0.16666666666666666),\n                             ('ppv', 0.25),\n                             ('npv', 0.8333333333333334)])})]))"
     },
     "execution_count": 5,
     "metadata": {},
     "output_type": "execute_result"
    }
   ],
   "source": [
    "# Input Below Should Return: [[0.2, 0.1, 0.0], [0.0, 0.2, 0.1], [0.1, 0.2, 0.1]]\n",
    "cm = confusionmatrix(\n",
    "    [\"B\", \"B\", \"C\", \"A\", \"B\", \"B\", \"C\", \"A\", \"A\", \"B\"], # actual\n",
    "    [\"A\", \"B\", \"B\", \"A\", \"C\", \"B\", \"C\", \"C\", \"A\", \"C\"], # predicted\n",
    "    normalize = True\n",
    ")\n",
    "\n",
    "# And The Output\n",
    "cm"
   ]
  },
  {
   "cell_type": "code",
   "execution_count": 7,
   "metadata": {},
   "outputs": [
    {
     "data": {
      "text/plain": "([[2, 1, 0], [0, 2, 1], [1, 2, 1]],\n OrderedDict([(0,\n               {'counts': OrderedDict([('tp', 2),\n                             ('fp', 1),\n                             ('tn', 6),\n                             ('fn', 1),\n                             ('pos', 3),\n                             ('neg', 7),\n                             ('n', 10)]),\n                'stats': OrderedDict([('sensitivity', 0.6666666666666666),\n                             ('specificity', 0.8571428571428571),\n                             ('precision', 0.6666666666666666),\n                             ('recall', 0.6666666666666666),\n                             ('tpr', 0.6666666666666666),\n                             ('tnr', 0.8571428571428571),\n                             ('fpr', 0.14285714285714285),\n                             ('fnr', 0.3333333333333333),\n                             ('accuracy', 0.8),\n                             ('f1score', 0.6666666666666666),\n                             ('fdr', 0.3333333333333333),\n                             ('for', 0.14285714285714285),\n                             ('ppv', 0.6666666666666666),\n                             ('npv', 0.8571428571428571)])}),\n              (1,\n               {'counts': OrderedDict([('tp', 2),\n                             ('fp', 1),\n                             ('tn', 4),\n                             ('fn', 3),\n                             ('pos', 5),\n                             ('neg', 5),\n                             ('n', 10)]),\n                'stats': OrderedDict([('sensitivity', 0.4),\n                             ('specificity', 0.8),\n                             ('precision', 0.6666666666666666),\n                             ('recall', 0.4),\n                             ('tpr', 0.4),\n                             ('tnr', 0.8),\n                             ('fpr', 0.2),\n                             ('fnr', 0.6),\n                             ('accuracy', 0.6),\n                             ('f1score', 0.5),\n                             ('fdr', 0.3333333333333333),\n                             ('for', 0.42857142857142855),\n                             ('ppv', 0.6666666666666666),\n                             ('npv', 0.5714285714285714)])}),\n              (2,\n               {'counts': OrderedDict([('tp', 1),\n                             ('fp', 3),\n                             ('tn', 5),\n                             ('fn', 1),\n                             ('pos', 2),\n                             ('neg', 8),\n                             ('n', 10)]),\n                'stats': OrderedDict([('sensitivity', 0.5),\n                             ('specificity', 0.625),\n                             ('precision', 0.25),\n                             ('recall', 0.5),\n                             ('tpr', 0.5),\n                             ('tnr', 0.625),\n                             ('fpr', 0.375),\n                             ('fnr', 0.5),\n                             ('accuracy', 0.6),\n                             ('f1score', 0.3333333333333333),\n                             ('fdr', 0.75),\n                             ('for', 0.16666666666666666),\n                             ('ppv', 0.25),\n                             ('npv', 0.8333333333333334)])})]))"
     },
     "execution_count": 7,
     "metadata": {},
     "output_type": "execute_result"
    }
   ],
   "source": [
    "# Input Below Should Return: [[2, 1, 0], [0, 2, 1], [1, 2, 1]]\n",
    "cm = confusionmatrix(\n",
    "    [1, 1, 2, 0, 1, 1, 2, 0, 0, 1], # actual\n",
    "    [0, 1, 1, 0, 2, 1, 2, 2, 0, 2]  # predicted\n",
    ")\n",
    "\n",
    "# And The Output\n",
    "# print(cm)\n",
    "cm"
   ]
  },
  {
   "cell_type": "code",
   "execution_count": null,
   "metadata": {},
   "outputs": [],
   "source": []
  }
 ]
}